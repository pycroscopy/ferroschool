{
 "cells": [
  {
   "cell_type": "markdown",
   "id": "6bcce3c2",
   "metadata": {},
   "source": [
    "# Spectral fitting and model selection with pycroscopy\n",
    "\n",
    "### Rama Vasudevan\n",
    "\n",
    "### Px Credits: Gerd Duscher, Suhas Somnath, S. Mani Valleti, Maxim Ziatdinov, Rama Vasudevan\n",
    "\n",
    "Let's look at how we can fit some spectra with pycroscopy, and then perfor model selection"
   ]
  },
  {
   "cell_type": "code",
   "execution_count": null,
   "id": "233273c5",
   "metadata": {},
   "outputs": [],
   "source": [
    "%matplotlib notebook\n",
    "!pip install -U pyNSID sidpy SciFiReaders nanonispy gwyfile pycroscopy\n",
    "#!pip install pip install threadpoolctl==3.1.0"
   ]
  },
  {
   "cell_type": "code",
   "execution_count": null,
   "id": "b992e8e0",
   "metadata": {},
   "outputs": [],
   "source": [
    "import sys\n",
    "import os\n",
    "import matplotlib.pyplot as plt\n",
    "import numpy as np\n",
    "\n",
    "import pyNSID\n",
    "import sidpy as sid\n",
    "import SciFiReaders as sr\n",
    "from sidpy.proc.fitter import SidFitter"
   ]
  },
  {
   "cell_type": "markdown",
   "id": "e6f15aa4",
   "metadata": {},
   "source": [
    "# Load and Visualize Spectral dataset\n",
    "\n",
    "Here we load a dataset of I-V curves captured by conductive atomic force microscopy, on a BiFeO3 sample.\n",
    "The data has been transformed so that we plot not the log of the current density J, as a function of the square root of the electric field. I-V curves plotted in this fashion will be linear if they follow Schottky emission form. The dataset was originally presented in the paper <a href = \"https://www.nature.com/articles/s41467-017-01334-5\"> Vasudevan et al. Nat Commun. 8, 1318 (2017) </a>\n",
    "\n",
    "Here we will load the file, which was saved as a pyNSID HDF5 file, using SciFiReaders, which reads it into a <i>sidpy.Dataset</i> object\n",
    "\n",
    "Then we will use the .plot() method of the <i>sidpy.Dataset</i> object for interactive visualization.\n"
   ]
  },
  {
   "cell_type": "code",
   "execution_count": null,
   "id": "5850713e",
   "metadata": {},
   "outputs": [],
   "source": [
    "data_path = r'data/bfo_iv_final.hf5'\n",
    "dr = sr.NSIDReader(data_path)\n",
    "dataset_sid = dr.read()[0]\n",
    "dataset_sid.plot();\n"
   ]
  },
  {
   "cell_type": "markdown",
   "id": "857fa64e",
   "metadata": {},
   "source": [
    "# Functional Fitting\n",
    "\n",
    "Much of the data appears linear. We can define any function of our choice and use sidpy's <i>SidFitter</i> class to make it easy to perform the fit on all of the spectra. We simply define the fit function, instantiate the class, and then call the do_fit() method.\n",
    "\n",
    "Advantages of using the fitter class include:\n",
    "- Innate scalability: we leverage the parallelism of Dask, so that the computations are performed in parallel\n",
    "- Superior priors: We can use a k-means cluster approach to improve priors for the function fits, as described in <a href = \"https://iopscience.iop.org/article/10.1088/2632-2153/abfbba/meta\">Creange et al.</a>\n",
    "- Dimension handling: There is intelligent folding and unfolding within the class to handle simple cases. For more complex situations (e.g., when there are multiple spectral dimensions, but only one is used for the fitting), these can be specified too.\n"
   ]
  },
  {
   "cell_type": "code",
   "execution_count": null,
   "id": "63836a5a",
   "metadata": {},
   "outputs": [],
   "source": [
    "#Define the function we want each spectrum to\n",
    "\n",
    "def one_lin_func(xvec, *coeff):\n",
    "    a1,a2 = coeff\n",
    "    return a1*xvec + a2\n",
    "\n",
    "#Instantiate the SidFitter class\n",
    "fitter = SidFitter(dataset_sid, one_lin_func,num_workers=4,\n",
    "                           threads=2, return_cov=False, return_fit=True, return_std=False,\n",
    "                           km_guess=True,num_fit_parms = 2)"
   ]
  },
  {
   "cell_type": "code",
   "execution_count": null,
   "id": "c12c2cce",
   "metadata": {},
   "outputs": [],
   "source": [
    "fit_parameters, fitted_dataset = fitter.do_fit() #With one line we can fit all the spectra"
   ]
  },
  {
   "cell_type": "markdown",
   "id": "9d1a605c",
   "metadata": {},
   "source": [
    "## Visualize Fit Results\n",
    "\n",
    "We can visualize the parameter maps from the fititng, or visualize the fitted data curves"
   ]
  },
  {
   "cell_type": "markdown",
   "id": "a3eccbbd",
   "metadata": {},
   "source": [
    "### Visualize coeffient maps\n",
    "\n",
    "The functional fits provided us with coefficient maps for the fit parameters.\n",
    "\n",
    "We can simply call the .plot() method again to visualize them."
   ]
  },
  {
   "cell_type": "code",
   "execution_count": null,
   "id": "40fbaa00",
   "metadata": {},
   "outputs": [],
   "source": [
    "fit_parameters.plot();"
   ]
  },
  {
   "cell_type": "markdown",
   "id": "05e87ed0",
   "metadata": {},
   "source": [
    "### Visualize fitted spectra\n",
    "Each spectrum is associated with a specific fit. \n",
    "\n",
    "We can visualize them again easily\n",
    "through calling the <i>visualize_fit_results()</i> method of the SidFitter class."
   ]
  },
  {
   "cell_type": "code",
   "execution_count": null,
   "id": "2580f617",
   "metadata": {
    "scrolled": false
   },
   "outputs": [],
   "source": [
    "fitter.visualize_fit_results() # We can visualize the results of the fit interactively too..."
   ]
  },
  {
   "cell_type": "markdown",
   "id": "0293406a",
   "metadata": {},
   "source": [
    "# Exercises\n",
    "\n",
    "1. Create your own dataset, with a different fitting function (model), and use the sidpy tools to make it a sidpy dataset object (see here for an example). Then fit the data to the model. Compare the results you get, for when you set the km_guess=True to km_guess = False for your dataset. Does it make much of a difference?\n",
    "\n",
    "\n",
    "2. (Advanced): what if there is more than one possible model that we can fit to the data? How would we test which model is 'better' to use? (Hint: this <a href = \"https://nirpyresearch.com/akaike-information-criterion-for-model-selection/\"> link </a> is handy). Try to create a dataset where the spatial response varies and is described by one model in some pixels and another at other pixels, and see how the AIC scores compare\n"
   ]
  },
  {
   "cell_type": "code",
   "execution_count": null,
   "id": "26e5eb78",
   "metadata": {},
   "outputs": [],
   "source": []
  }
 ],
 "metadata": {
  "kernelspec": {
   "display_name": "Python 3 (ipykernel)",
   "language": "python",
   "name": "python3"
  },
  "language_info": {
   "codemirror_mode": {
    "name": "ipython",
    "version": 3
   },
   "file_extension": ".py",
   "mimetype": "text/x-python",
   "name": "python",
   "nbconvert_exporter": "python",
   "pygments_lexer": "ipython3",
   "version": "3.9.7"
  }
 },
 "nbformat": 4,
 "nbformat_minor": 5
}
